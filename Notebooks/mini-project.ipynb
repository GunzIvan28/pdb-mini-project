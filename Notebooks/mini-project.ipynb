{
 "cells": [
  {
   "cell_type": "code",
   "execution_count": null,
   "metadata": {},
   "outputs": [],
   "source": [
    "# # Designing the main menu #\n",
    "# def menu():\n",
    "#     \"\"\"\n",
    "#     Function: Displays the menu with different options for the user\n",
    "#     Arguments: None\n",
    "#     Returns: Menu\n",
    "    \n",
    "#     \"\"\"\n",
    "#     blue = lambda text: '\\033[0;34m' + text + '\\033[0m' # Colors the printed output blue\n",
    "#     red = lambda text: '\\033[0;31m' + text + '\\033[0m'\n",
    "#     software = \"PDB FILE ANALYZER\"\n",
    "#     choices = \"Select an option from below:\"\n",
    "#     c1 = \"1) Open a PDB file                     (O)\"\n",
    "#     c2 = \"2) Information                         (I)\"\n",
    "#     c3 = \"3) Show histrogram of amino acids      (H)\"\n",
    "#     c4 = \"4) Display Secondary Structure         (S)\"\n",
    "#     c5 = \"5) Export PDB File                     (X)\"\n",
    "#     c6 = \"6) Exit                                (Q)\"\n",
    "#     global file\n",
    "#     status = \"Current PDB: \"+ file\n",
    "#     len(software)\n",
    "\n",
    "#     stars=\"*\"\n",
    "#     space=\" \"\n",
    "#     print(blue(stars*80))\n",
    "#     #The length of the inserted string and its 0 index is subtracted for the desired 80 characters per line to be met.\n",
    "#     #Subtract index 0s in each object added, this concept is applied to each line.\n",
    "#     print(blue(stars * 1),blue(\"%0s\"%\"\"),blue(\"%s\"%software),space*(75-(len(software)))+blue(stars))\n",
    "#     print(blue(stars*80))\n",
    "#     print(blue(stars * 1),\"%0s\"%\"\",blue(\"%s\" %choices),space*(75-(len(choices)))+blue(stars) ) \n",
    "#     print(blue(stars*1), blue(space*76), blue(stars*1))\n",
    "#     print(blue(stars * 1),\"%5s\"%\"\",blue(\"%s\" %c1),space*(70-(len(c1)))+blue(stars))\n",
    "#     print(blue(stars * 1),\"%5s\"%\"\",blue(\"%s\"%c2),space*(70-(len(c2)))+blue(stars))\n",
    "#     print(blue(stars * 1),\"%5s\"%\"\",blue(\"%s\" %c3),space*(70-(len(c3)))+blue(stars))\n",
    "#     print(blue(stars * 1),\"%5s\"%\"\",blue(\"%s\" %c4),space*(70-(len(c4)))+blue(stars))\n",
    "#     print(blue(stars * 1),\"%5s\"%\"\",blue(\"%s\" %c5),space*(70-(len(c5)))+blue(stars))\n",
    "#     print(blue(stars * 1),\"%5s\"%\"\",blue(\"%s\" %c6),space*(70-(len(c6)))+blue(stars))\n",
    "#     print(blue(stars * 1),\"%0s\"%\"\",space*(74-(len(status))),blue(\"%s\" %status),blue(stars*1))\n",
    "#     print(blue(stars*80))\n",
    "#     global choice\n",
    "#     choice = input(\":\")"
   ]
  },
  {
   "cell_type": "code",
   "execution_count": null,
   "metadata": {},
   "outputs": [],
   "source": [
    "menu()"
   ]
  },
  {
   "cell_type": "markdown",
   "metadata": {},
   "source": [
    "Constructed each letter for the software independently using string formatting "
   ]
  },
  {
   "cell_type": "code",
   "execution_count": null,
   "metadata": {},
   "outputs": [],
   "source": [
    "space=\" \" #assigned variable space\n",
    "print(space+\"______\"+space+\"\")\n",
    "print(\"|\"+space*2+\"___\"+space*2+\"\\\\\")\n",
    "print(\"| |\"+space*3+\"|\"+space+\"|\")\n",
    "print(\"| |___| |\")\n",
    "print(\"| |___\"+space*2+\"/\")\n",
    "print(\"| |\")\n",
    "print(\"| |\")"
   ]
  },
  {
   "cell_type": "code",
   "execution_count": null,
   "metadata": {},
   "outputs": [],
   "source": [
    "space=\" \"\n",
    "print(\"# #####\")\n",
    "print(\"# #\"+space*3+\"#\")\n",
    "print(\"# #####\")\n",
    "print(\"# #\")\n",
    "print(\"# #\")"
   ]
  },
  {
   "cell_type": "code",
   "execution_count": null,
   "metadata": {},
   "outputs": [],
   "source": [
    "space=\" \"\n",
    "print(space+\"______\")\n",
    "print(\"|\"+space*2+\"___\"+space*2+ \"\\\\\")\n",
    "print(\"| |\"+space*3+\"|\"+space+\"|\")\n",
    "print(\"| |\"+space*3+\"|\"+space+\"|\")\n",
    "print(\"| |\"+space*3+\"|\"+space+\"|\")\n",
    "print(\"| |___| |\")\n",
    "print(\"|______\"+space+\"/\")"
   ]
  },
  {
   "cell_type": "code",
   "execution_count": null,
   "metadata": {},
   "outputs": [],
   "source": [
    "space=\" \"\n",
    "print(space+\"______\"+space+\"\")\n",
    "print(\"|\"+space*2+\"__\"+space*3+ \"\\\\\")\n",
    "print(\"| |\"+space*3+\"| |\")\n",
    "print(\"| |___/\"+space+\"/\")\n",
    "print(\"|  ___\\\\\"+space+\"\\\\\")\n",
    "print(\"| |___| |\")\n",
    "print(\"|______\"+space*1+\"/\")"
   ]
  },
  {
   "cell_type": "code",
   "execution_count": null,
   "metadata": {},
   "outputs": [],
   "source": [
    "space=\" \"\n",
    "print(space+\"______\"+space+\"\")\n",
    "print(\"|\"+space*2+\"___\"+space*2+\"\\\\\")\n",
    "print(\"| |\"+space*3+\"|\"+space+\"|\")\n",
    "print(\"| |___| |\")\n",
    "print(\"| |___\"+space*2+\"/\")\n",
    "print(\"| |\")\n",
    "print(\"| |\")\n",
    "\n",
    "space=\" \"\n",
    "print(space+\"______\")\n",
    "print(\"|\"+space*2+\"___\"+space*2+ \"\\\\\")\n",
    "print(\"| |\"+space*3+\"|\"+space+\"|\")\n",
    "print(\"| |\"+space*3+\"|\"+space+\"|\")\n",
    "print(\"| |\"+space*3+\"|\"+space+\"|\")\n",
    "print(\"| |___| |\")\n",
    "print(\"|______\"+space+\"/\")\n",
    "\n",
    "space=\" \"\n",
    "print(space+\"______\"+space+\"\")\n",
    "print(\"|\"+space*2+\"__\"+space*3+ \"\\\\\")\n",
    "print(\"| |\"+space*3+\"| |\")\n",
    "print(\"| |___/\"+space+\"/\")\n",
    "print(\"|  ___\\\\\"+space+\"\\\\\")\n",
    "print(\"| |___| |\")\n",
    "print(\"|______\"+space*1+\"/\")"
   ]
  },
  {
   "cell_type": "code",
   "execution_count": null,
   "metadata": {},
   "outputs": [],
   "source": [
    "# Assigned \n",
    "space=\" \"\n",
    "print(space+\"______\"+space+\"  \"+D1,\"    \"+B1)\n",
    "print(\"|\"+space*2+\"___\"+space*2+\"\\\\\",D2,\" \",B2)\n",
    "print(\"| |\"+space*3+\"|\"+space+\"|\",D3,\" \",B3)\n",
    "print(\"| |___| |\",D4,\" \",B4)\n",
    "print(\"| |___\"+space*2+\"/\",D5,\" \",B5)\n",
    "print(\"| |\",space*5,D6,\" \",B6)\n",
    "print(\"| |\",space*5,D7,\" \",B7)\n",
    "\n",
    "space=\" \"\n",
    "\n",
    "D1=(space+\"______\")\n",
    "D2=(\"|\"+space*2+\"___\"+space*2+ \"\\\\\")\n",
    "D3=(\"| |\"+space*3+\"|\"+space+\"|\")\n",
    "D4=(\"| |\"+space*3+\"|\"+space+\"|\")\n",
    "D5=(\"| |\"+space*3+\"|\"+space+\"|\")\n",
    "D6=(\"| |___| |\")\n",
    "D7=(\"|______\"+space+\"/\")\n",
    "\n",
    "space=\" \"\n",
    "B1=(space+\"______\"+space+\"\")\n",
    "B2=(\"|\"+space*2+\"__\"+space*3+ \"\\\\\")\n",
    "B3=(\"| |\"+space*3+\"| |\")\n",
    "B4=(\"| |___/\"+space+\"/\")\n",
    "B5=(\"|  ___\\\\\"+space+\"\\\\\")\n",
    "B6=(\"| |___| |\")\n",
    "B7=(\"|______\"+space*1+\"/\"+ \"  SOFTWARE\" )"
   ]
  },
  {
   "cell_type": "code",
   "execution_count": null,
   "metadata": {},
   "outputs": [],
   "source": [
    "print(\"\"\"OPTIONS:\\n\n",
    "         R - Read PDB file \\n\n",
    "         S - Search PDB file \\n\n",
    "         W - Write out \\n\n",
    "         I - Information \\n\n",
    "         A - Alignment \\n\n",
    "         H - Help \\n\n",
    "         Q - Quit program \"\"\" )"
   ]
  },
  {
   "cell_type": "code",
   "execution_count": null,
   "metadata": {},
   "outputs": [],
   "source": [
    "space=\" \"\n",
    "print(space+\"______\"+space+\"  \"+D1,\"    \"+B1)\n",
    "print(\"|\"+space*2+\"___\"+space*2+\"\\\\\",D2,\" \",B2)\n",
    "print(\"| |\"+space*3+\"|\"+space+\"|\",D3,\" \",B3)\n",
    "print(\"| |___| |\",D4,\" \",B4)\n",
    "print(\"| |___\"+space*2+\"/\",D5,\" \",B5)\n",
    "print(\"| |\",space*5,D6,\" \",B6)\n",
    "print(\"| |\",space*5,D7,\" \",B7)\n",
    "\n",
    "space=\" \"\n",
    "D1=(space+\"______\")\n",
    "D2=(\"|\"+space*2+\"___\"+space*2+ \"\\\\\")\n",
    "D3=(\"| |\"+space*3+\"|\"+space+\"|\")\n",
    "D4=(\"| |\"+space*3+\"|\"+space+\"|\")\n",
    "D5=(\"| |\"+space*3+\"|\"+space+\"|\")\n",
    "D6=(\"| |___| |\")\n",
    "D7=(\"|______\"+space+\"/\")\n",
    "\n",
    "space=\" \"\n",
    "B1=(space+\"______\"+space+\"\")\n",
    "B2=(\"|\"+space*2+\"__\"+space*3+ \"\\\\\")\n",
    "B3=(\"| |\"+space*3+\"| |\")\n",
    "B4=(\"| |___/\"+space+\"/\")\n",
    "B5=(\"|  ___\\\\\"+space+\"\\\\\")\n",
    "B6=(\"| |___| |\")\n",
    "B7=(\"|______\"+space*1+\"/\"+ \"  SOFTWARE\\n\\n\" )\n",
    "\n",
    "print('PDB software is a protein interrogation software that enables the user to manipulate .pdb files\\n')\n",
    "\n",
    "print(\"\"\"OPTIONS:\\n\n",
    "         R - Read PDB file \\n\n",
    "         S - Search PDB file \\n\n",
    "         W - Write out \\n\n",
    "         I - Information \\n\n",
    "         A - Alignment \\n\n",
    "         H - Help \\n\n",
    "         Q - Quit program \"\"\" )"
   ]
  },
  {
   "cell_type": "code",
   "execution_count": null,
   "metadata": {},
   "outputs": [],
   "source": [
    "option=input(\"Choose your option: \")"
   ]
  },
  {
   "cell_type": "code",
   "execution_count": null,
   "metadata": {},
   "outputs": [],
   "source": [
    "#Declared or set the status of the default file loaded to empty using the first two lines and also inserted some emojis at the status ouput part\n",
    "#Next we assigned the constructed 'DB' strings to 'D' and 'B' respectively & concatenated them to produce the menu emblem\n",
    "global status\n",
    "status='Empty'\n",
    "space=\" \"\n",
    "\n",
    "D1=(space+\"______\")\n",
    "D2=(\"|\"+space*2+\"___\"+space*2+ \"\\\\\")\n",
    "D3=(\"| |\"+space*3+\"|\"+space+\"|\")\n",
    "D4=(\"| |\"+space*3+\"|\"+space+\"|\")\n",
    "D5=(\"| |\"+space*3+\"|\"+space+\"|\")\n",
    "D6=(\"| |___| |\")\n",
    "D7=(\"|______\"+space+\"/\")\n",
    "\n",
    "B1=(space+\"______\"+space+\"\")\n",
    "B2=(\"|\"+space*2+\"__\"+space*3+ \"\\\\\")\n",
    "B3=(\"| |\"+space*3+\"| |\")\n",
    "B4=(\"| |___/\"+space+\"/\")\n",
    "B5=(\"|  ___\\\\\"+space+\"\\\\\")\n",
    "B6=(\"| |___| |\")\n",
    "B7=(\"|______\"+space*1+\"/\"+ \"  SOFTWARE\\n\\n\" )\n",
    "\n",
    "\n",
    "space=\" \"\n",
    "print(space+\"______\"+space+\"  \"+D1,\"    \"+B1)\n",
    "print(\"|\"+space*2+\"___\"+space*2+\"\\\\\",D2,\" \",B2)\n",
    "print(\"| |\"+space*3+\"|\"+space+\"|\",D3,\" \",B3)\n",
    "print(\"| |___| |\",D4,\" \",B4)\n",
    "print(\"| |___\"+space*2+\"/\",D5,\" \",B5)\n",
    "print(\"| |\",space*5,D6,\" \",B6)\n",
    "print(\"| |\",space*5,D7,\" \",B7)\n",
    "\n",
    "# print(\"File Loaded: \", status, '😔\\n') \n",
    "\n",
    "print(\"\"\"OPTIONS:\\n\n",
    "         R - Read PDB file \\n\n",
    "         S - Search PDB file \\n\n",
    "         W - Write out \\n\n",
    "         I - Information \\n\n",
    "         A - Alignment \\n\n",
    "         H - Help \\n\n",
    "         Q - Quit program \"\"\" )"
   ]
  },
  {
   "cell_type": "code",
   "execution_count": null,
   "metadata": {},
   "outputs": [],
   "source": [
    "# Introduced colors in the code\n",
    "global status\n",
    "status='Empty'\n",
    "space=\" \"\n",
    "\n",
    "blue = lambda text: '\\033[0;34m' + text + '\\033[0m' # Colors the printed output blue\n",
    "red = lambda text: '\\033[0;31m' + text + '\\033[0m'  # Colors the printed output red\n",
    "yellow = lambda text: '\\033[0;33m' + text + '\\033[0m'# Colors the printed output yellow\n",
    "green = lambda text: '\\033[0;32m' + text + '\\033[0m' # # Colors the printed output green\n",
    "\n",
    "D1=(space+\"______\")\n",
    "D2=(\"|\"+space*2+\"___\"+space*2+ \"\\\\\")\n",
    "D3=(\"| |\"+space*3+\"|\"+space+\"|\")\n",
    "D4=(\"| |\"+space*3+\"|\"+space+\"|\")\n",
    "D5=(\"| |\"+space*3+\"|\"+space+\"|\")\n",
    "D6=(\"| |___| |\")\n",
    "D7=(\"|______\"+space+\"/\")\n",
    "\n",
    "B1=(space+\"______\"+space+\"\")\n",
    "B2=(\"|\"+space*2+\"__\"+space*3+ \"\\\\\")\n",
    "B3=(\"| |\"+space*3+\"| |\")\n",
    "B4=(\"| |___/\"+space+\"/\")\n",
    "B5=(\"|  ___\\\\\"+space+\"\\\\\")\n",
    "B6=(\"| |___| |\")\n",
    "B7=(\"|______\"+space*1+\"/\"+ yellow(\"  SOFTWARE\\n\\n\"))\n",
    "\n",
    "\n",
    "space=\" \"\n",
    "print(space+blue(\"______\")+space+\"  \"+blue(D1),\"    \"+blue(B1))\n",
    "print(blue(\"|\")+space*2+blue(\"___\")+space*2+blue(\"\\\\\"),blue(D2),\" \",blue(B2))\n",
    "print(blue(\"| |\")+space*3+blue(\"|\")+space+blue(\"|\"),blue(D3),\" \",blue(B3))\n",
    "print(blue(\"| |___| |\"),blue(D4),\" \",blue(B4))\n",
    "print(blue(\"| |___\")+space*2+blue(\"/\"),blue(D5),\" \",blue(B5))\n",
    "print(blue(\"| |\"),space*5,blue(D6),\" \",blue(B6))\n",
    "print(blue(\"| |\"),space*5,blue(D7),\" \",blue(B7))\n",
    "\n",
    "print(\"File Loaded: \", status, '😔\\n') \n",
    "\n",
    "print(green(\"\"\"OPTIONS:\\n\n",
    "         R - Read PDB file \\n\n",
    "         S - Search PDB file \\n\n",
    "         W - Write out \\n\n",
    "         I - Information \\n\n",
    "         A - Alignment \\n\n",
    "         H - Help \\n\n",
    "         Q - Quit program \"\"\"))"
   ]
  },
  {
   "cell_type": "code",
   "execution_count": null,
   "metadata": {},
   "outputs": [],
   "source": [
    "print(\"\"\"OPTIONS:\\n\n",
    "R- Read\\n\n",
    "S- Search\\n\n",
    "\"\"\")"
   ]
  },
  {
   "cell_type": "code",
   "execution_count": null,
   "metadata": {},
   "outputs": [],
   "source": [
    "#Emojis\n",
    "#😔🤩🙂🥵🧬📎📒📋"
   ]
  },
  {
   "cell_type": "code",
   "execution_count": null,
   "metadata": {},
   "outputs": [],
   "source": [
    "# Now creating function for the Main Menu #\n",
    "def menu():\n",
    "    \n",
    "    space=\" \"\n",
    "    global status                 # set status to global to make sure it can be called from within and outside function\n",
    "    status='Empty'                # sets orignal file status to 'empty'\n",
    "\n",
    "    D1=(space+\"______\")\n",
    "    D2=(\"|\"+space*2+\"___\"+space*2+ \"\\\\\")\n",
    "    D3=(\"| |\"+space*3+\"|\"+space+\"|\")\n",
    "    D4=(\"| |\"+space*3+\"|\"+space+\"|\")\n",
    "    D5=(\"| |\"+space*3+\"|\"+space+\"|\")\n",
    "    D6=(\"| |___| |\")\n",
    "    D7=(\"|______\"+space+\"/\")\n",
    "\n",
    "    B1=(space+\"______\"+space+\"\")\n",
    "    B2=(\"|\"+space*2+\"__\"+space*3+ \"\\\\\")\n",
    "    B3=(\"| |\"+space*3+\"| |\")\n",
    "    B4=(\"| |___/\"+space+\"/\")\n",
    "    B5=(\"|  ___\\\\\"+space+\"\\\\\")\n",
    "    B6=(\"| |___| |\")\n",
    "    B7=(\"|______\"+space*1+\"/\"+ \"  SOFTWARE\\n\\n\" )\n",
    "\n",
    "\n",
    "    print(space+\"______\"+space+\"  \"+D1,\"    \"+B1)\n",
    "    print(\"|\"+space*2+\"___\"+space*2+\"\\\\\",D2,\" \",B2)\n",
    "    print(\"| |\"+space*3+\"|\"+space+\"|\",D3,\" \",B3)\n",
    "    print(\"| |___| |\",D4,\" \",B4)\n",
    "    print(\"| |___\"+space*2+\"/\",D5,\" \",B5)\n",
    "    print(\"| |\",space*5,D6,\" \",B6)\n",
    "    print(\"| |\",space*5,D7,\" \",B7)\n",
    "\n",
    "    print(\"File Loaded: \", status, '😔\\n') \n",
    "\n",
    "    print(\"\"\"OPTIONS:\\n\n",
    "             R - Read PDB file \\n\n",
    "             S - Search PDB file \\n\n",
    "             W - Write out \\n\n",
    "             I - Information \\n\n",
    "             A - Alignment \\n\n",
    "             H - Help \\n\n",
    "             Q - Quit program \\n\"\"\" )\n",
    "    global option                            # making another variable option global so that if it's outside this function it can still work\n",
    "    option=input(\"Choose your option: \")\n",
    "menu()"
   ]
  },
  {
   "cell_type": "code",
   "execution_count": null,
   "metadata": {},
   "outputs": [],
   "source": [
    "menu() #Test to see if the globalized 'option' can work outside or inside the function"
   ]
  },
  {
   "cell_type": "code",
   "execution_count": null,
   "metadata": {},
   "outputs": [],
   "source": [
    "print(option)"
   ]
  },
  {
   "cell_type": "code",
   "execution_count": null,
   "metadata": {},
   "outputs": [],
   "source": [
    "file = input(\"Please enter the name of the PDB file: \")\n",
    "print (file)"
   ]
  },
  {
   "cell_type": "code",
   "execution_count": null,
   "metadata": {},
   "outputs": [],
   "source": [
    "#Now this function requests the user to input their file name and it prints out a succesful load\n",
    "def read():\n",
    "    file=input(\"Please enter the name of the PDB file: \")\n",
    "    print(\"Successfully loaded the file:\",file)"
   ]
  },
  {
   "cell_type": "code",
   "execution_count": null,
   "metadata": {},
   "outputs": [],
   "source": [
    "read() # Tests to see if the read function works"
   ]
  },
  {
   "cell_type": "code",
   "execution_count": null,
   "metadata": {},
   "outputs": [],
   "source": [
    "#Now we want to check and see if the path for the file entered by the user is valid. By default, all files to be loaded will be available in the data folder so we will set the path of the users input to be tested if it's origin is from that Data dierectory\n",
    "import os.path\n",
    "path=\"/home/gunz/Ivan-Python/Notebooks/ivan-python-miniproject/Data/\"\n",
    "full_path=path+file\n",
    "os.path.exists(full_path)"
   ]
  },
  {
   "cell_type": "code",
   "execution_count": null,
   "metadata": {},
   "outputs": [],
   "source": [
    "#Now combining the two to form one read() function with the one that checks validity of the path to the ~/Data directory\n",
    "global file\n",
    "def read():\n",
    "    import os.path\n",
    "    file=input(\"Please enter the name of the PDB file: \")\n",
    "    \n",
    "    path=\"/home/gunz/Ivan-Python/Notebooks/ivan-python-miniproject/Data/\"\n",
    "    full_path=path+file\n",
    "    if os.path.exists(full_path) == True:\n",
    "        print(\"Successfully loaded valid pdb file:\",file)\n",
    "#         status from empty to \n",
    "    else:\n",
    "        print(\"File or path '%s'\" %(full_path), \"does not exist \\nFile should be located in the directory: %s\" % path)"
   ]
  },
  {
   "cell_type": "code",
   "execution_count": null,
   "metadata": {},
   "outputs": [],
   "source": [
    "read()"
   ]
  },
  {
   "cell_type": "code",
   "execution_count": null,
   "metadata": {},
   "outputs": [],
   "source": [
    "pwd"
   ]
  },
  {
   "cell_type": "code",
   "execution_count": null,
   "metadata": {},
   "outputs": [],
   "source": [
    "menu()"
   ]
  },
  {
   "cell_type": "code",
   "execution_count": null,
   "metadata": {},
   "outputs": [],
   "source": [
    "#Now we merge the main menu with our created 'read' function using the 'option' and if condition\n",
    "menu()\n",
    "if option == \"r\":\n",
    "    read()"
   ]
  },
  {
   "cell_type": "code",
   "execution_count": null,
   "metadata": {},
   "outputs": [],
   "source": [
    "type(option)"
   ]
  },
  {
   "cell_type": "code",
   "execution_count": null,
   "metadata": {},
   "outputs": [],
   "source": [
    "option"
   ]
  },
  {
   "cell_type": "code",
   "execution_count": null,
   "metadata": {},
   "outputs": [],
   "source": [
    "# Now starting on the search option. First let's look at the format of a basic pdb file and its descriptions\n",
    "\n",
    "info=\"\"\"sources:\\n\n",
    "http://www.wwpdb.org/documentation/file-format-content/format33/v3.3.html    \n",
    "https://en.wikipedia.org/wiki/Protein_Data_Bank_(file_format)\\n\n",
    "HEADER    EXTRACELLULAR MATRIX                    22-JAN-98   1A3I\n",
    "TITLE     X-RAY CRYSTALLOGRAPHIC DETERMINATION OF A COLLAGEN-LIKE\n",
    "TITLE    2 PEPTIDE WITH THE REPEATING SEQUENCE (PRO-PRO-GLY)\n",
    "...\n",
    "EXPDTA    X-RAY DIFFRACTION\n",
    "AUTHOR    R.Z.KRAMER,L.VITAGLIANO,J.BELLA,R.BERISIO,L.MAZZARELLA,\n",
    "AUTHOR   2 B.BRODSKY,A.ZAGARI,H.M.BERMAN\n",
    "...\n",
    "REMARK 350 BIOMOLECULE: 1\n",
    "REMARK 350 APPLY THE FOLLOWING TO CHAINS: A, B, C\n",
    "REMARK 350   BIOMT1   1  1.000000  0.000000  0.000000        0.00000\n",
    "REMARK 350   BIOMT2   1  0.000000  1.000000  0.000000        0.00000\n",
    "...\n",
    "SEQRES   1 A    9  PRO PRO GLY PRO PRO GLY PRO PRO GLY\n",
    "SEQRES   1 B    6  PRO PRO GLY PRO PRO GLY\n",
    "SEQRES   1 C    6  PRO PRO GLY PRO PRO GLY\n",
    "...\n",
    "ATOM      1  N   PRO A   1       8.316  21.206  21.530  1.00 17.44           N\n",
    "ATOM      2  CA  PRO A   1       7.608  20.729  20.336  1.00 17.44           C\n",
    "ATOM      3  C   PRO A   1       8.487  20.707  19.092  1.00 17.44           C\n",
    "ATOM      4  O   PRO A   1       9.466  21.457  19.005  1.00 17.44           O\n",
    "ATOM      5  CB  PRO A   1       6.460  21.723  20.211  1.00 22.26           C\n",
    "...\n",
    "HETATM  130  C   ACY   401       3.682  22.541  11.236  1.00 21.19           C\n",
    "HETATM  131  O   ACY   401       2.807  23.097  10.553  1.00 21.19           O\n",
    "HETATM  132  OXT ACY   401       4.306  23.101  12.291  1.00 21.19           O\n",
    "...\n",
    "\n",
    "HEADER, TITLE and AUTHOR records \n",
    "    provide information about the researchers who defined the structure; numerous other types of records are available to provide other types of information.\n",
    "REMARK records \n",
    "    can contain free-form annotation, but they also accommodate standardized information; for example, the REMARK 350 BIOMT records describe how to compute the coordinates of the experimentally observed multimer from those of the explicitly specified ones of a single repeating unit.\n",
    "SEQRES records \n",
    "    give the sequences of the three peptide chains (named A, B and C), which are very short in this example but usually span multiple lines.\n",
    "ATOM records \n",
    "    describe the coordinates of the atoms that are part of the protein. For example, the first ATOM line above describes the alpha-N atom of the first residue of peptide chain A, which is a proline residue; the first three floating point numbers are its x, y and z coordinates and are in units of Ångströms.[3] The next three columns are the occupancy, temperature factor, and the element name, respectively.\n",
    "HETATM records \n",
    "    describe coordinates of hetero-atoms, that is those atoms which are not part of the protein molecule.\n",
    "\"\"\"\n",
    "print(info)"
   ]
  },
  {
   "cell_type": "code",
   "execution_count": null,
   "metadata": {},
   "outputs": [],
   "source": [
    "#Download pdb files using rsync#\n",
    "# rsync -rlpt -v -z --delete --port=33444 \\\n",
    "# rsync.rcsb.org::ftp_data/structures/divided/pdb/ ./pdb"
   ]
  },
  {
   "cell_type": "code",
   "execution_count": null,
   "metadata": {},
   "outputs": [],
   "source": [
    "# Opening the very first pdbfile in the data directory -------- for DNA sequencce, we need a protein file\n",
    "with open('/home/gunz/Ivan-Python/Notebooks/ivan-python-miniproject/Data/pdb/00/pdb200d.ent',\"r\") as pdb200d:\n",
    "    for l in pdb200d:\n",
    "#         if l.startswith(\"SEQRES\"): #This only pulls out and \n",
    "        print(l)\n",
    "    "
   ]
  },
  {
   "cell_type": "code",
   "execution_count": null,
   "metadata": {},
   "outputs": [],
   "source": [
    "# Attempting to open protein pdb\n",
    "with open('/home/gunz/Ivan-Python/Notebooks/ivan-python-miniproject/Data/pdb/96/pdb296d.ent',\"r\") as pdb296d:\n",
    "    for l in pdb296d:\n",
    "#         if l.startswith(\"SEQRES\"): #This only pulls out and \n",
    "            print(l)"
   ]
  },
  {
   "cell_type": "code",
   "execution_count": null,
   "metadata": {},
   "outputs": [],
   "source": [
    "# Attempting to open insulin=1zn1.pdb\n",
    "with open('/home/gunz/Ivan-Python/Notebooks/ivan-python-miniproject/Data/pdb/1zni.pdb',\"r\") as insulin:\n",
    "    for l in insulin:\n",
    "#         if l.startswith(\"SEQRES\"): #This only pulls out and \n",
    "        print(l)"
   ]
  },
  {
   "cell_type": "code",
   "execution_count": null,
   "metadata": {},
   "outputs": [],
   "source": [
    "# Now we need join the SEQRES outputs above into amino acid sequences\n",
    "with open('/home/gunz/Ivan-Python/Notebooks/ivan-python-miniproject/Data/pdb/1zni.pdb',\"r\") as insulin:\n",
    "    for l in insulin:\n",
    "        if l.startswith(\"SEQRES\"):           # Notice in our output the SEQRES has 4 chains[A,B,C,and D]\n",
    "            print(l)\n",
    "            print(l.split())\n",
    "#          print(list(l))\n",
    "#             print('+'.join(l))\n",
    "#             print(l.split())                # Each individual amino acid is considered as a stand alone string"
   ]
  },
  {
   "cell_type": "code",
   "execution_count": null,
   "metadata": {},
   "outputs": [],
   "source": [
    "# Just redefined the colors a bit to show the different sequences per chain\n",
    "# We want to join each of the chains A,B,C,& D into one continuous sequence so we create empty sets for the 4 chains\n",
    "# Next we choose index 2 which specifies the chain ID, we use the 'if' and append functions to merge to each respective list and then we finally print out the sequences\n",
    "\n",
    "\n",
    "blue = lambda text: '\\033[0;34m' + text + '\\033[0m' # Colors the printed output blue\n",
    "red = lambda text: '\\033[0;31m' + text + '\\033[0m'  # Colors the printed output red\n",
    "yellow = lambda text: '\\033[0;33m' + text + '\\033[0m'# Colors the printed output yellow\n",
    "green = lambda text: '\\033[0;32m' + text + '\\033[0m' # # Colors the printed output green\n",
    "\n",
    "with open('/home/gunz/Ivan-Python/Notebooks/ivan-python-miniproject/Data/pdb/1zni.pdb',\"r\") as insulin:\n",
    "    listA=[]\n",
    "    listB=[]\n",
    "    listC=[]\n",
    "    listD=[]\n",
    "    for l in insulin:\n",
    "        if l.startswith(\"SEQRES\"): #This only pulls out SEQRES and outputs it\n",
    "            split_line = l.split()\n",
    "            if split_line[2] == \"A\":\n",
    "                listA.append(split_line[4:])\n",
    "            if split_line[2] == \"B\":\n",
    "                listB.append(split_line[4:])\n",
    "            if split_line[2] == \"C\":\n",
    "                listC.append(split_line[4:])\n",
    "            if split_line[2] == \"D\":\n",
    "                listD.append(split_line[4:])\n",
    "    print(red(\"ListA output is:\"),listA)\n",
    "    print(blue(\"##############################################################################################################################################################\\n\"))\n",
    "    print(yellow(\"ListB output is:\"), listB)\n",
    "    print(blue(\"##############################################################################################################################################################\\n\"))\n",
    "    print(green(\"ListC output is:\"), listC)\n",
    "    print(blue(\"##############################################################################################################################################################\\n\"))\n",
    "    print(\"ListD output is:\", listD)\n",
    "    print(blue(\"##############################################################################################################################################################\\n\"))\n",
    "    \n",
    "# Unfortunately, it displays lists embedded with the list. Now we have a task of merging lists within lists together"
   ]
  },
  {
   "cell_type": "code",
   "execution_count": null,
   "metadata": {},
   "outputs": [],
   "source": [
    "## Now concatenating single list into one                    \n",
    "flat_listA = []\n",
    "for sublist in listA:\n",
    "    for item in sublist:\n",
    "        flat_listA.append(item)\n",
    "        print(flat_listA)\n",
    "print(flat_listA)"
   ]
  },
  {
   "cell_type": "code",
   "execution_count": null,
   "metadata": {},
   "outputs": [],
   "source": [
    "## Now concatenating single list into one                    \n",
    "flat_listA = []                           #create new list\n",
    "for sublist in listA:                     \n",
    "    print(sublist)                        #prints sublists(i.e the two individual lists are considered as single items of their own)\n",
    "#     for item in sublist:\n",
    "#         flat_listA.append(item)\n",
    "#         print(flat_listA)\n",
    "# print(flat_listA)"
   ]
  },
  {
   "cell_type": "code",
   "execution_count": null,
   "metadata": {},
   "outputs": [],
   "source": [
    "flat_listA = []                           #create new list\n",
    "for sublist in listA:                                             \n",
    "    for item in sublist:                  #2nd for loop considers each triplet code in each sublist and appends them to the list up\n",
    "        flat_listA.append(item)\n",
    "print(flat_listA)                         #The print outside the second loop should give one concatenated list"
   ]
  },
  {
   "cell_type": "code",
   "execution_count": null,
   "metadata": {},
   "outputs": [],
   "source": [
    "## converting the three code aa into a single letter code using a dictionary       \n",
    "OneCode = {'ALA':'A','CYS':'C','ASP':'D','GLU':'E','PHE':'F','GLY':'G','HIS':'H','ILE':'I','LYS':'K','LEU':'L','MET':'M',\n",
    "             'ASN':'N','PRO':'P','GLN':'Q','ARG':'R','SER':'S','THR':'T','VAL':'V','TRP':'W','TYR':'Y'}\n",
    "Aa_seqA=\"\".join(OneCode[x] for x in flat_listA)\n",
    "print(Aa_seqA)"
   ]
  },
  {
   "cell_type": "markdown",
   "metadata": {},
   "source": [
    "## Repeat the same for the other chains"
   ]
  },
  {
   "cell_type": "code",
   "execution_count": null,
   "metadata": {},
   "outputs": [],
   "source": [
    "OneCode = {'ALA':'A','CYS':'C','ASP':'D','GLU':'E','PHE':'F','GLY':'G','HIS':'H','ILE':'I','LYS':'K','LEU':'L','MET':'M',\n",
    "             'ASN':'N','PRO':'P','GLN':'Q','ARG':'R','SER':'S','THR':'T','VAL':'V','TRP':'W','TYR':'Y'}\n",
    "flat_listB = []                           #create new list\n",
    "for sublist in listB:                                             \n",
    "    for item in sublist:                  #2nd for loop considers each triplet code in each sublist and appends them to the list up\n",
    "        flat_listB.append(item)\n",
    "print(flat_listB)\n",
    "Aa_seqB=\"\".join(OneCode[x] for x in flat_listB)\n",
    "print(Aa_seqB)"
   ]
  },
  {
   "cell_type": "code",
   "execution_count": null,
   "metadata": {},
   "outputs": [],
   "source": [
    "OneCode = {'ALA':'A','CYS':'C','ASP':'D','GLU':'E','PHE':'F','GLY':'G','HIS':'H','ILE':'I','LYS':'K','LEU':'L','MET':'M',\n",
    "             'ASN':'N','PRO':'P','GLN':'Q','ARG':'R','SER':'S','THR':'T','VAL':'V','TRP':'W','TYR':'Y'}\n",
    "flat_listC = []                           #create new list\n",
    "for sublist in listC:                                             \n",
    "    for item in sublist:                  #2nd for loop considers each triplet code in each sublist and appends them to the list up\n",
    "        flat_listC.append(item)\n",
    "print(flat_listC)\n",
    "Aa_seqC=\"\".join(OneCode[x] for x in flat_listC)\n",
    "print(Aa_seqC)"
   ]
  },
  {
   "cell_type": "code",
   "execution_count": null,
   "metadata": {},
   "outputs": [],
   "source": [
    "OneCode = {'ALA':'A','CYS':'C','ASP':'D','GLU':'E','PHE':'F','GLY':'G','HIS':'H','ILE':'I','LYS':'K','LEU':'L','MET':'M',\n",
    "             'ASN':'N','PRO':'P','GLN':'Q','ARG':'R','SER':'S','THR':'T','VAL':'V','TRP':'W','TYR':'Y'}\n",
    "flat_listD = []                           #create new list\n",
    "for sublist in listD:                                             \n",
    "    for item in sublist:                  #2nd for loop considers each triplet code in each sublist and appends them to the list up\n",
    "        flat_listD.append(item)\n",
    "print(flat_listD)\n",
    "Aa_seqD=\"\".join(OneCode[x] for x in flat_listD)\n",
    "print(Aa_seqD)"
   ]
  },
  {
   "cell_type": "code",
   "execution_count": null,
   "metadata": {},
   "outputs": [],
   "source": [
    "ep = [\"A\",\"B\"] #if a list has items, the length function can tell us how many items it has \n",
    "len(ep)"
   ]
  },
  {
   "cell_type": "code",
   "execution_count": null,
   "metadata": {},
   "outputs": [],
   "source": [
    "#Now we want to create a list that contains all possible chains and then use it to create the number of empty lists that will be used in the subsequent steps\n",
    "with open('/home/gunz/Ivan-Python/Notebooks/ivan-python-miniproject/Data/pdb/1zni.pdb',\"r\") as insulin:\n",
    "    chain_list = []\n",
    "    for l in insulin:\n",
    "        if l.startswith(\"SEQRES\"): #This only pulls out SEQRES and outputs it\n",
    "            split_l = l.split()\n",
    "            chain_list.append(split_l[2]) # appending the chains to an empty list\n",
    "    chain_list = (set(chain_list)) # removing redundunt characters\n",
    "    \n",
    "    chain_list = list(chain_list) # convert the set to a list\n",
    "    print(chain_list)"
   ]
  },
  {
   "cell_type": "code",
   "execution_count": null,
   "metadata": {},
   "outputs": [],
   "source": [
    "# finding the length of chain list\n",
    "\n",
    "# len(chain_list)\n",
    "\n",
    "\n",
    "for i in range(1, len(chain_list)+1): # python counts from 0 so add 1 on the range \n",
    "    var = \"L\" +str(i) +\"=\"+\"[]\" #creating an automated empty list using a the item on the loop\n",
    "    exec(var)"
   ]
  },
  {
   "cell_type": "code",
   "execution_count": null,
   "metadata": {},
   "outputs": [],
   "source": [
    "# implementing automation on the larger code\n",
    "with open('/home/gunz/Ivan-Python/Notebooks/ivan-python-miniproject/Data/pdb/1zni.pdb',\"r\") as insulin:\n",
    "\n",
    "    for l in insulin:\n",
    "        for y in range(1, len(chain_list)+1):\n",
    "            vr = (str(\"L\")+str(y))\n",
    "            exec(vr)\n",
    "            for s in chain_list:\n",
    "                if l.startswith(\"SEQRES\"): #This only pulls out SEQRES and outputs it\n",
    "                    split_l = l.split()  \n",
    "                    if split_l[2] == s:\n",
    "                        vr.append(split_l[4:])\n",
    "                        #listA.append(split_line[4:])"
   ]
  },
  {
   "cell_type": "code",
   "execution_count": null,
   "metadata": {},
   "outputs": [],
   "source": []
  },
  {
   "cell_type": "code",
   "execution_count": null,
   "metadata": {},
   "outputs": [],
   "source": []
  },
  {
   "cell_type": "code",
   "execution_count": null,
   "metadata": {},
   "outputs": [],
   "source": [
    "# finding the length of chain list\n",
    "\n",
    "# len(chain_list)\n",
    "\n",
    "var_list_names = [] # empty lists for the empty lists names for the individual chains\n",
    "for i in range(1, len(chain_list)+1): # python counts from 0 so add 1 on the range \n",
    "    var = \"L\" +str(i) +\"=\"+\"[]\" #creating an automated empty list using a the item on the loop\n",
    "    var_list_names.append(var[:2]) # appends the names of the empty chains created \n",
    "    exec(var)\n",
    "print(var_list_names)"
   ]
  },
  {
   "cell_type": "code",
   "execution_count": null,
   "metadata": {},
   "outputs": [],
   "source": []
  },
  {
   "cell_type": "code",
   "execution_count": null,
   "metadata": {},
   "outputs": [],
   "source": [
    "# implementing automation on the larger code\n",
    "with open('/home/gunz/Ivan-Python/Notebooks/ivan-python-miniproject/Data/pdb/1zni.pdb',\"r\") as insulin:\n",
    "    \n",
    "    # the first loop creats the chain list\n",
    "    chain_list = []\n",
    "    for l in insulin:\n",
    "        if l.startswith(\"SEQRES\"): #This only pulls out SEQRES and outputs it\n",
    "            split_l = l.split()\n",
    "            chain_list.append(split_l[2]) # appending the chains to an empty list\n",
    "    chain_list = (set(chain_list)) # removing redundunt characters\n",
    "    \n",
    "    chain_list = list(chain_list) # convert the set to a list\n",
    "    \n",
    "    # detecting different chains in a pdb and creating lists of them \n",
    "    var_list_names = [] # empty lists for the empty lists names for the individual chains      \n",
    "    for y in range(1, len(chain_list)+1):\n",
    "        var = \"L\" +str(y) +\"=\"+\"[]\" #creating an automated empty list using a the item on the loop\n",
    "        var_list_names.append(var[:2]) # appends the names of the empty chains created\n",
    "        exec(var)\n",
    "        \n",
    "with open('/home/gunz/Ivan-Python/Notebooks/ivan-python-miniproject/Data/pdb/1zni.pdb',\"r\") as insulin_2: \n",
    "    for line in insulin_2:\n",
    "        for s in chain_list:\n",
    "            for v in var_list_names:\n",
    "                if line.startswith(\"SEQRES\"): #This only pulls out SEQRES and outputs it\n",
    "                    split_l = line.split()  \n",
    "                    if split_l[2] == s:\n",
    "                        exec(v)\n",
    "                        v.append(split_l[4:])\n",
    "print()\n",
    "\n",
    "\n",
    "\n",
    "##DEBUGGING##\n",
    "\n",
    "#     for s in chain_list:\n",
    "#         print(s)\n",
    "#     for v in var_list_names:\n",
    "#         print(v)\n",
    "# #             if l.startswith(\"SEQRES\"): #This only pulls out SEQRES and outputs it\n",
    "# #                 split_l = l.split()  \n",
    "# #                 if split_l[2] == s:\n",
    "# #                     v.append(split_l[4:])"
   ]
  },
  {
   "cell_type": "code",
   "execution_count": null,
   "metadata": {},
   "outputs": [],
   "source": [
    "#!/usr/bin/env python\n",
    "#Python regular expression patterns\n",
    "#This script identifies any of the glycosylations sites in our assignmennt\n",
    "#Match some patterned regular expression\n",
    "\n",
    "aminoacid  = 'TRIMDYIIYRFLLIFGAPTMALFVLTKAYPFLQNYGYAPTLNIPITGSMDTVYSNSTLAPTREEIFYAFTLTSTLCLYYGAWGP'\n",
    "\n",
    "pattern = re.compile(r'[GYL]A[PFW][TLVGMT]') #Find patterns starting with G or Y or L then A then P or F or W\n",
    "matches = pattern.finditer(aminoacid)\n",
    "for match in matches:\n",
    "    print(match)"
   ]
  },
  {
   "cell_type": "code",
   "execution_count": null,
   "metadata": {},
   "outputs": [],
   "source": []
  }
 ],
 "metadata": {
  "kernelspec": {
   "display_name": "Python 3",
   "language": "python",
   "name": "python3"
  },
  "language_info": {
   "codemirror_mode": {
    "name": "ipython",
    "version": 3
   },
   "file_extension": ".py",
   "mimetype": "text/x-python",
   "name": "python",
   "nbconvert_exporter": "python",
   "pygments_lexer": "ipython3",
   "version": "3.7.3"
  }
 },
 "nbformat": 4,
 "nbformat_minor": 4
}
